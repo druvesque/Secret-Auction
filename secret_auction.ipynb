{
 "cells": [
  {
   "cell_type": "code",
   "execution_count": 9,
   "id": "c896db8a-76ca-4acd-a0f8-6129643a43e0",
   "metadata": {},
   "outputs": [
    {
     "name": "stdout",
     "output_type": "stream",
     "text": [
      "Welcome to the secret auction program.\n"
     ]
    },
    {
     "name": "stdin",
     "output_type": "stream",
     "text": [
      "What is your name?:  John Wick\n",
      "What's your bid? (in USD):  534\n",
      "Are there any other bidders? Type 'yes' or 'no'. yes\n",
      "What is your name?:  Michael Jordan\n",
      "What's your bid? (in USD):  874\n",
      "Are there any other bidders? Type 'yes' or 'no'. yes\n",
      "What is your name?:  Kobe Bryant\n",
      "What's your bid? (in USD):  589\n",
      "Are there any other bidders? Type 'yes' or 'no'. no\n"
     ]
    },
    {
     "name": "stdout",
     "output_type": "stream",
     "text": [
      "[534, 874, 589]\n",
      "The winner is Michael Jordan with the highest bid of $874.\n"
     ]
    }
   ],
   "source": [
    "#Secret Auction\n",
    "import os\n",
    "print(\"Welcome to the secret auction program.\")\n",
    "bidders = {}\n",
    "more_bidders = True\n",
    "while more_bidders:\n",
    "    name = input(\"What is your name?: \")\n",
    "    bid = int(input(\"What's your bid? (in USD): \"))\n",
    "    more = input(\"Are there any other bidders? Type 'yes' or 'no'.\").lower()\n",
    "    bidders[name] = bid\n",
    "    if more == \"no\":\n",
    "        more_bidders = False\n",
    "    elif more == \"yes\": #Clearing the output in Jupyter\n",
    "        os.system('CLS')\n",
    "bids = []\n",
    "for key in bidders:\n",
    "    bids.append(bidders[key])\n",
    "print(bids)\n",
    "max_bid = max(bids)\n",
    "for i in bidders:\n",
    "    if max_bid == bidders[i]:\n",
    "        print(f\"The winner is {i} with the highest bid of ${max_bid}.\")"
   ]
  },
  {
   "cell_type": "code",
   "execution_count": null,
   "id": "56197270-29d9-449b-a2aa-538445b9a2dc",
   "metadata": {},
   "outputs": [],
   "source": []
  }
 ],
 "metadata": {
  "kernelspec": {
   "display_name": "Python 3 (ipykernel)",
   "language": "python",
   "name": "python3"
  },
  "language_info": {
   "codemirror_mode": {
    "name": "ipython",
    "version": 3
   },
   "file_extension": ".py",
   "mimetype": "text/x-python",
   "name": "python",
   "nbconvert_exporter": "python",
   "pygments_lexer": "ipython3",
   "version": "3.11.7"
  }
 },
 "nbformat": 4,
 "nbformat_minor": 5
}
